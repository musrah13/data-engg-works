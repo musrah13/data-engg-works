{
 "cells": [
  {
   "cell_type": "markdown",
   "metadata": {},
   "source": [
    "# Hacker News Data Exploration\n",
    "\n",
    "Hacker News is a site started by the startup incubator [Y Combinator](https://www.ycombinator.com/), where user-submitted stories (known as \"posts\") are voted and commented upon, similar to reddit. Hacker News is extremely popular in technology and startup circles, and posts that make it to the top of Hacker News' listings can get hundreds of thousands of visitors as a result.\n",
    "\n",
    "You can find the data set [here](https://www.kaggle.com/hacker-news/hacker-news-posts), but note that it has been reduced from almost 300,000 rows to approximately 20,000 rows by removing all submissions that did not receive any comments, and then randomly sampling from the remaining submissions. Below are descriptions of the columns:\n",
    "\n",
    "- `id`: The unique identifier from Hacker News for the post\n",
    "- `title`: The title of the post\n",
    "- `url`: The URL that the posts links to, if it the post has a URL\n",
    "- `num_points`: The number of points the post acquired, calculated as the total number of upvotes minus the total number of downvotes\n",
    "- `num_comments`: The number of comments that were made on the post\n",
    "- `author`: The username of the person who submitted the post\n",
    "- `created_at`: The date and time at which the post was submitted\n",
    "\n",
    "We're specifically interested in posts whose titles begin with either `\"Ask HN\"` or `\"Show HN\"` substring. Users submit `\"Ask HN\"` posts to ask the Hacker News community a specific question. Likewise, users submit `\"Show HN\"` posts to show the Hacker News community a project, product, or just generally something interesting.\n",
    "\n",
    "We'll compare these two types of posts to determine the following:\n",
    "\n",
    "- Do `\"Ask HN\"` or `\"Show HN\"` receive more comments on average?\n",
    "- Do posts created at a certain time receive more comments on average?\n",
    "\n",
    "Let's start by importing the libraries we need and reading the data set into a list of lists."
   ]
  },
  {
   "cell_type": "code",
   "execution_count": 1,
   "metadata": {},
   "outputs": [
    {
     "name": "stdout",
     "output_type": "stream",
     "text": [
      "['id', 'title', 'url', 'num_points', 'num_comments', 'author', 'created_at']\n",
      "\n",
      "\n",
      "['12224879', 'Interactive Dynamic Video', 'http://www.interactivedynamicvideo.com/', '386', '52', 'ne0phyte', '8/4/2016 11:52']\n",
      "\n",
      "\n",
      "['10975351', 'How to Use Open Source and Shut the Fuck Up at the Same Time', 'http://hueniverse.com/2016/01/26/how-to-use-open-source-and-shut-the-fuck-up-at-the-same-time/', '39', '10', 'josep2', '1/26/2016 19:30']\n",
      "\n",
      "\n",
      "['11964716', \"Florida DJs May Face Felony for April Fools' Water Joke\", 'http://www.thewire.com/entertainment/2013/04/florida-djs-april-fools-water-joke/63798/', '2', '1', 'vezycash', '6/23/2016 22:20']\n",
      "\n",
      "\n",
      "['11919867', 'Technology ventures: From Idea to Enterprise', 'https://www.amazon.com/Technology-Ventures-Enterprise-Thomas-Byers/dp/0073523429', '3', '1', 'hswarna', '6/17/2016 0:01']\n",
      "\n",
      "\n",
      "['10301696', 'Note by Note: The Making of Steinway L1037 (2007)', 'http://www.nytimes.com/2007/11/07/movies/07stein.html?_r=0', '8', '2', 'walterbell', '9/30/2015 4:12']\n",
      "\n",
      "\n"
     ]
    }
   ],
   "source": [
    "from csv import reader\n",
    "\n",
    "opened_file = open('dataset/hacker_news.csv')\n",
    "read_file = reader(opened_file)\n",
    "hn = list(read_file)\n",
    "headers = hn[0]\n",
    "hn = hn[1:]\n",
    "\n",
    "print(headers)\n",
    "print(\"\\n\")\n",
    "for each_row in hn[:5]:\n",
    "    print(each_row)\n",
    "    print(\"\\n\")"
   ]
  },
  {
   "cell_type": "markdown",
   "metadata": {},
   "source": [
    "Now that we've removed the headers from `hn`, we're ready to filter our data. Since we're only concerned with post titles beginning with `\"Ask HN\"` or `\"Show HN\"`, we'll create new lists of lists containing just the data for those titles."
   ]
  },
  {
   "cell_type": "code",
   "execution_count": 2,
   "metadata": {},
   "outputs": [
    {
     "name": "stdout",
     "output_type": "stream",
     "text": [
      "Number of posts asking ('Ask HN'): 1744\n",
      "Number of posts showing ('Show HN'): 1162\n",
      "Number of other posts: 17194\n"
     ]
    }
   ],
   "source": [
    "ask_posts = []\n",
    "show_posts = []\n",
    "other_posts = []\n",
    "\n",
    "for each_row in hn:\n",
    "    title = each_row[1].lower()\n",
    "    if title.startswith('ask hn'):\n",
    "        ask_posts.append(each_row)\n",
    "    elif title.startswith('show hn'):\n",
    "        show_posts.append(each_row)\n",
    "    else:\n",
    "        other_posts.append(each_row)\n",
    "        \n",
    "print(\"Number of posts asking ('Ask HN'): \" + str(len(ask_posts)))\n",
    "print(\"Number of posts showing ('Show HN'): \" + str(len(show_posts)))\n",
    "print(\"Number of other posts: \" + str(len(other_posts)))"
   ]
  },
  {
   "cell_type": "markdown",
   "metadata": {},
   "source": [
    "Next, let's determine if ask posts or show posts receive more comments on average.\n",
    "\n",
    "We can create a function `avg_no_of_cmnts()` as there will be redundant line of codes otherwise as we will essentially be doing the same thing (finding average number of comments for certain type of posts). `avg_no_of_cmnts()` takes a list of lists (rows for `\"Ask HN\"` or `\"Show HN\"` posts) as its only input/ parameter. It then counts the total number of comments in that certain types of posts and returns the average number of comments."
   ]
  },
  {
   "cell_type": "code",
   "execution_count": 3,
   "metadata": {},
   "outputs": [
    {
     "name": "stdout",
     "output_type": "stream",
     "text": [
      "Average comments for posts asking ('Ask HN'): 14.04\n",
      "Average comments for posts showing ('Show HN'): 10.32\n"
     ]
    }
   ],
   "source": [
    "def avg_no_of_cmnts(rows):\n",
    "    total = 0\n",
    "    for each_row in rows:\n",
    "        n_cmnt = int(each_row[4])\n",
    "        total += n_cmnt\n",
    "        \n",
    "    avg = total/len(rows)\n",
    "    return avg\n",
    "\n",
    "avg_ask_comments = avg_no_of_cmnts(ask_posts)\n",
    "avg_show_comments = avg_no_of_cmnts(show_posts)\n",
    "\n",
    "print(\"Average comments for posts asking ('Ask HN'): \" + str(round(avg_ask_comments, 2)))\n",
    "print(\"Average comments for posts showing ('Show HN'): \" + str(round(avg_show_comments,2)))"
   ]
  },
  {
   "cell_type": "markdown",
   "metadata": {},
   "source": [
    "Looking from the above data, it is clear that `\"Ask HN\"` posts receive more comments on average (**14.04**) than `\"Show HN\"` posts (**10.32**).\n",
    "\n",
    "Since ask posts are more likely to receive comments, we'll focus our remaining analysis just on these posts. Next, we'll determine if ask posts created at a certain *time* are more likely to attract comments. We'll use the following steps to perform this analysis:\n",
    "\n",
    "1. Calculate the amount of ask posts created in each hour of the day, along with the number of comments received.\n",
    "\n",
    "2. Calculate the average number of comments ask posts receive by hour created."
   ]
  },
  {
   "cell_type": "code",
   "execution_count": 4,
   "metadata": {},
   "outputs": [
    {
     "name": "stdout",
     "output_type": "stream",
     "text": [
      "Number of posts by hour [High->Low]: \n",
      "15: 116\n",
      "19: 110\n",
      "21: 109\n",
      "18: 109\n",
      "16: 108\n",
      "14: 107\n",
      "17: 100\n",
      "13: 85\n",
      "20: 80\n",
      "12: 73\n",
      "22: 71\n",
      "23: 68\n",
      "01: 60\n",
      "10: 59\n",
      "11: 58\n",
      "02: 58\n",
      "00: 55\n",
      "03: 54\n",
      "08: 48\n",
      "04: 47\n",
      "05: 46\n",
      "09: 45\n",
      "06: 44\n",
      "07: 34\n",
      "\n",
      "\n",
      "Number of comments by hour [High->Low]: \n",
      "15: 4477\n",
      "16: 1814\n",
      "21: 1745\n",
      "20: 1722\n",
      "18: 1439\n",
      "14: 1416\n",
      "02: 1381\n",
      "13: 1253\n",
      "19: 1188\n",
      "17: 1146\n",
      "10: 793\n",
      "12: 687\n",
      "01: 683\n",
      "11: 641\n",
      "23: 543\n",
      "08: 492\n",
      "22: 479\n",
      "05: 464\n",
      "00: 447\n",
      "03: 421\n",
      "06: 397\n",
      "04: 337\n",
      "07: 267\n",
      "09: 251\n"
     ]
    }
   ],
   "source": [
    "import datetime as dt\n",
    "\n",
    "result_list = []\n",
    "\n",
    "for each_row in ask_posts:\n",
    "    temp_list = [each_row[6], int(each_row[4])]\n",
    "    result_list.append(temp_list)\n",
    "    \n",
    "counts_by_hour = {}\n",
    "comments_by_hour = {}\n",
    "\n",
    "for elem in result_list:\n",
    "    dt_obj = dt.datetime.strptime(elem[0], \"%m/%d/%Y %H:%M\")\n",
    "    hour = dt_obj.strftime(\"%H\")\n",
    "    if hour not in counts_by_hour:\n",
    "        counts_by_hour[hour] = 1\n",
    "        comments_by_hour[hour] = elem[1]\n",
    "    else:\n",
    "        counts_by_hour[hour] += 1\n",
    "        comments_by_hour[hour] += elem[1]\n",
    "    \n",
    "counts_by_hour_list = []\n",
    "comments_by_hour_list = []\n",
    "    \n",
    "print(\"Number of posts by hour [High->Low]: \")\n",
    "for k,v in counts_by_hour.items():\n",
    "    a, b = v, k\n",
    "    counts_by_hour_list.append([a,b])\n",
    "    \n",
    "for elem in sorted(counts_by_hour_list, reverse=True):\n",
    "    print('{}: {}'.format(elem[1],elem[0]))\n",
    "    \n",
    "print(\"\\n\")\n",
    "    \n",
    "print(\"Number of comments by hour [High->Low]: \")\n",
    "for k,v in comments_by_hour.items():\n",
    "    a, b = v, k\n",
    "    comments_by_hour_list.append([a,b])\n",
    "    \n",
    "for elem in sorted(comments_by_hour_list, reverse=True):\n",
    "    print('{}: {}'.format(elem[1],elem[0]))"
   ]
  }
 ],
 "metadata": {
  "kernelspec": {
   "display_name": "Python 3",
   "language": "python",
   "name": "python3"
  },
  "language_info": {
   "codemirror_mode": {
    "name": "ipython",
    "version": 3
   },
   "file_extension": ".py",
   "mimetype": "text/x-python",
   "name": "python",
   "nbconvert_exporter": "python",
   "pygments_lexer": "ipython3",
   "version": "3.7.6"
  }
 },
 "nbformat": 4,
 "nbformat_minor": 2
}
