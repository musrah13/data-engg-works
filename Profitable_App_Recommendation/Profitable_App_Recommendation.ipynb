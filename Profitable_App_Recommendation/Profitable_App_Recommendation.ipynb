{
 "cells": [
  {
   "cell_type": "markdown",
   "metadata": {
    "scrolled": true
   },
   "source": [
    "# App Profile Recommendation\n",
    "\n",
    "In this project we analyze the data available from our various apps to find out user engagement. As all of our apps are free, the main revenue stream is trhough in-app ads. The more the user interacts with theem, the more profitable the apps become.\n",
    "\n",
    "The main goal of the project is to find out those apps that are generating most revenue and/or show the most potential for generating higher revenue."
   ]
  }
 ],
 "metadata": {
  "kernelspec": {
   "display_name": "Python 3",
   "language": "python",
   "name": "python3"
  },
  "language_info": {
   "codemirror_mode": {
    "name": "ipython",
    "version": 3
   },
   "file_extension": ".py",
   "mimetype": "text/x-python",
   "name": "python",
   "nbconvert_exporter": "python",
   "pygments_lexer": "ipython3",
   "version": "3.7.6"
  }
 },
 "nbformat": 4,
 "nbformat_minor": 4
}
